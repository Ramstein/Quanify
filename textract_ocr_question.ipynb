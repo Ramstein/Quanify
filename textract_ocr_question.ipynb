{
 "cells": [
  {
   "cell_type": "code",
   "execution_count": 72,
   "metadata": {},
   "outputs": [],
   "source": [
    "import boto3\n",
    "import json, sys\n",
    "from pprint import pprint\n",
    "import pandas as pd\n"
   ]
  },
  {
   "cell_type": "code",
   "execution_count": 94,
   "metadata": {},
   "outputs": [],
   "source": [
    "sem_plus_sub = '07-css'  # no capital, no underscore\n",
    "region = 'us-west-2'\n",
    "bucket_name = sem_plus_sub+'-textract-upload'\n",
    "\n",
    "n_char_in_A_ans = 250\n",
    "n_char_in_B_ans = 1250\n",
    "n_char_in_C_ans = 1250\n",
    "\n"
   ]
  },
  {
   "cell_type": "code",
   "execution_count": 61,
   "metadata": {},
   "outputs": [],
   "source": [
    "def questionify(lines):\n",
    "    # with open('text.txt', 'r') as file:\n",
    "    lines = lines\n",
    "\n",
    "    drop_str = ['ATTEMPT ALL QUESTIONS IN BRIEF.', 'ATTEMPT ANY THREE OF THE FOLLOWING:',\n",
    "                'ATTEMPT ANY ONE PART OF THE FOLLOWING:',\n",
    "                'ATTEMPT ALL QUESTIONS IN BRIEF:', 'ATTEMPT ANY THREE OF THE FOLLOWING.',\n",
    "                'ATTEMPT ANY ONE PART OF THE FOLLOWING.',\n",
    "                'ATTEMPT ALL QUESTIONS IN BRIEF', 'ATTEMPT ANY THREE OF THE FOLLOWING',\n",
    "                'ATTEMPT ANY ONE PART OF THE FOLLOWING']\n",
    "    words = ['MARKS', 'CO', 'QUESTION', 'NOTE', 'QNO.', 'QNO']\n",
    "    question_end = ['.', '?', ',', '!']\n",
    "    lines1 = []\n",
    "\n",
    "    QA, QB, QC, question = [], [], [], ''\n",
    "    section_a, section_b, section_c, q_line_start, q_line_end = 0, 0, 0, 0, 0\n",
    "    lines_in_q = True\n",
    "\n",
    "    # lines = file.readlines()\n",
    "    for line in lines:\n",
    "        line = line.split('\\n')[0].upper()\n",
    "        if not len(line) < 5:\n",
    "            lines1.append(line)\n",
    "\n",
    "    for w in words: drop_str.append(w)\n",
    "\n",
    "    lines = []\n",
    "    for x in (line for line in lines1 if line not in drop_str):\n",
    "        lines.append(x)\n",
    "\n",
    "    for i, line in enumerate(lines):\n",
    "        if line == 'SECTION A': section_a, section_b, section_c = 1, 0, 0\n",
    "        if line == 'SECTION B': section_a, section_b, section_c = 0, 1, 0\n",
    "        if line == 'SECTION C': section_a, section_b, section_c = 0, 0, 1\n",
    "\n",
    "        for qe in question_end:\n",
    "            if line.endswith(qe):\n",
    "                if lines_in_q: q_line_start = i\n",
    "                q_line_end = i\n",
    "\n",
    "                question = lines[q_line_start + 1]\n",
    "                if q_line_start < q_line_end:\n",
    "                    for q in range(q_line_end - q_line_start - 1):\n",
    "                        q_line_start += 1\n",
    "                        question +=' ' + lines[q_line_start + 1]\n",
    "\n",
    "                if section_a: QA.append(question)\n",
    "                if section_b: QB.append(question)\n",
    "                if section_c: QC.append(question)\n",
    "\n",
    "                question = ''\n",
    "                lines_in_q = True\n",
    "            else:\n",
    "                if lines_in_q:\n",
    "                    q_line_start = i\n",
    "                    lines_in_q = False\n",
    "    \n",
    "#     print(QA)  # miss the first question on every section.\n",
    "#     print(QB)\n",
    "#     print(QC)  # for section-c question, leave the first question if answer is not matching.\n",
    "    return QA, QB, QC"
   ]
  },
  {
   "cell_type": "code",
   "execution_count": null,
   "metadata": {},
   "outputs": [],
   "source": [
    "# amazon s3\n",
    "s3 = boto3.resource('s3')"
   ]
  },
  {
   "cell_type": "code",
   "execution_count": 69,
   "metadata": {},
   "outputs": [
    {
     "name": "stdout",
     "output_type": "stream",
     "text": [
      "['SECTION A 2 X 7 - 14 A) ENLIST DIFFERENT TYPES OF SENSORS INCORPORATED IN A ROBOT.', 'B) DEFINE AUTOMATION.', 'C) DIFFERENTIATE BETWEEN AUTOMATION AND ROBOTICS.', 'D) WHAT IS MEANT BY ACCURACY OF A ROBOT?', 'E) WHAT ARE THE CHARACTERISTICS OF A SERVOMOTOR?', 'F) EXPLAIN THE FUNCTIONS OF A HYDRAULIC FLUID G) EXPLAIN THE WORKING OF AN ELECTROMAGNETIC RELAY.']\n",
      "['SECTION B 7 X 3 = 21 A) DISCUSS IN DETAIL THE INTEGRATION OF MECHANICAT \"SYSTEMS WITH ELECTRONICS AND COMPUTER SYSTEM.', 'B) IDENTIFY THE VARIOUS TYPES OF TRANSFER DEY DERIEI USED IN INDUSTRIAL AUTOMATION. EXPLAIN THE WORKING OF ANY TWO TRANSFER DEVICES WITH THE HELP OF NEAT SHETCHES.', 'C) A ROBOT IS TO BE USED FOR SPOT WELDING INT AN AUTOMOTIVE INDUSTRY FOR SPOT WELDING OF CAR BODY SELECT THE ROOT TO BE USED AND EXPLAIN THE GEOMETRY, CONTROL STRATEGY, TYPE OF DRIVE OF THE SELECTED ROBOTS D) ENLIST THE LAWS OF ROBOTICS DISCUSS VARIOUS TYPES OF ROBOTS IN DETAIL ALONG WITH THEIR APPLICATIONS E) EXPLAIN THE VARIOUS DRIVE SYSTEMS FOR ROBOT END EFFECTORS. HOW ARE GRIPPERS CLASSIFIED? EXPLAIN ANY ONE OF THEM.']\n",
      "['SECTION C 7X1-7 1 A) DISCUSS THE ROLE OF PLC IN AUTOMATIOU AND ROBOTICS. ENLIST AND EXPLAIN VARIOUS ELEMENTS OF AUTOMATION.']\n"
     ]
    }
   ],
   "source": [
    "lines = []\n",
    "s3_files = []\n",
    "\n",
    "# amazon textract\n",
    "textract = boto3.client(service_name='textract', region_name=region)\n",
    "\n",
    "for s3_file in s3_files:\n",
    "    try:\n",
    "        response = textract.detect_document_text(\n",
    "            Document={\n",
    "                \"S3Object\": {\n",
    "                    \"Bucket\":bucket_name,\n",
    "                    \"Name\":s3_file}})\n",
    "        \n",
    "        for item in response[\"Blocks\"]:\n",
    "            if item[\"BlockType\"] == \"LINE\":\n",
    "                lines.append(item[\"Text\"])\n",
    "    except Exception as e:\n",
    "        print(e)\n",
    "\n",
    "qa, qb, qc = questionify(lines)\n"
   ]
  },
  {
   "cell_type": "code",
   "execution_count": 78,
   "metadata": {},
   "outputs": [],
   "source": [
    "qa = ['SECTION A 2 X 7 - 14 A) ENLIST DIFFERENT TYPES OF SENSORS INCORPORATED IN A ROBOT.', 'B) DEFINE AUTOMATION.', 'C) DIFFERENTIATE BETWEEN AUTOMATION AND ROBOTICS.', 'D) WHAT IS MEANT BY ACCURACY OF A ROBOT?', 'E) WHAT ARE THE CHARACTERISTICS OF A SERVOMOTOR?', 'F) EXPLAIN THE FUNCTIONS OF A HYDRAULIC FLUID G) EXPLAIN THE WORKING OF AN ELECTROMAGNETIC RELAY.']\n",
    "qb = ['SECTION B 7 X 3 = 21 A) DISCUSS IN DETAIL THE INTEGRATION OF MECHANICAT \"SYSTEMS WITH ELECTRONICS AND COMPUTER SYSTEM.', 'B) IDENTIFY THE VARIOUS TYPES OF TRANSFER DEY DERIEI USED IN INDUSTRIAL AUTOMATION. EXPLAIN THE WORKING OF ANY TWO TRANSFER DEVICES WITH THE HELP OF NEAT SHETCHES.', 'C) A ROBOT IS TO BE USED FOR SPOT WELDING INT AN AUTOMOTIVE INDUSTRY FOR SPOT WELDING OF CAR BODY SELECT THE ROOT TO BE USED AND EXPLAIN THE GEOMETRY, CONTROL STRATEGY, TYPE OF DRIVE OF THE SELECTED ROBOTS D) ENLIST THE LAWS OF ROBOTICS DISCUSS VARIOUS TYPES OF ROBOTS IN DETAIL ALONG WITH THEIR APPLICATIONS E) EXPLAIN THE VARIOUS DRIVE SYSTEMS FOR ROBOT END EFFECTORS. HOW ARE GRIPPERS CLASSIFIED? EXPLAIN ANY ONE OF THEM.']\n",
    "qc = ['SECTION C 7X1-7 1 A) DISCUSS THE ROLE OF PLC IN AUTOMATIOU AND ROBOTICS. ENLIST AND EXPLAIN VARIOUS ELEMENTS OF AUTOMATION.']"
   ]
  },
  {
   "cell_type": "code",
   "execution_count": 75,
   "metadata": {},
   "outputs": [
    {
     "data": {
      "text/html": [
       "<div>\n",
       "<style scoped>\n",
       "    .dataframe tbody tr th:only-of-type {\n",
       "        vertical-align: middle;\n",
       "    }\n",
       "\n",
       "    .dataframe tbody tr th {\n",
       "        vertical-align: top;\n",
       "    }\n",
       "\n",
       "    .dataframe thead th {\n",
       "        text-align: right;\n",
       "    }\n",
       "</style>\n",
       "<table border=\"1\" class=\"dataframe\">\n",
       "  <thead>\n",
       "    <tr style=\"text-align: right;\">\n",
       "      <th></th>\n",
       "      <th>Id</th>\n",
       "      <th>Question1</th>\n",
       "      <th>Question2</th>\n",
       "      <th>Answer</th>\n",
       "    </tr>\n",
       "  </thead>\n",
       "  <tbody>\n",
       "    <tr>\n",
       "      <th>0</th>\n",
       "      <td>1</td>\n",
       "      <td>AVEI:L</td>\n",
       "      <td>AVEI:L 1.1. WHAT IS STEEL STRUCTURE ? WHAT ARE...</td>\n",
       "      <td>A STEEL STRUCTURE : A STEEL STRUCTURE IS AN AS...</td>\n",
       "    </tr>\n",
       "    <tr>\n",
       "      <th>1</th>\n",
       "      <td>2</td>\n",
       "      <td>WHAT ARE THE ADVANTAGES AND DISADVANTAGES OF S...</td>\n",
       "      <td>WRITE ADVANTAGES OF STEEL USED AS A STRUCTURAL...</td>\n",
       "      <td>A ADVANTAGES : FOLLOWING ARE THE ADVANTAGES OF...</td>\n",
       "    </tr>\n",
       "    <tr>\n",
       "      <th>2</th>\n",
       "      <td>3</td>\n",
       "      <td>WHAT IS STRUCTURAL STEEL AND WHAT ARE ITS PROP...</td>\n",
       "      <td>DESCRIBE SOME OF THE MECHANICAL PROPERTIES OF ...</td>\n",
       "      <td>STEEL : IT IS PROBABLY THE MOST VERSATILE AND ...</td>\n",
       "    </tr>\n",
       "    <tr>\n",
       "      <th>3</th>\n",
       "      <td>4</td>\n",
       "      <td>DISCUSS IN BRIEF A GENERAL CHEMICAL COMPOSITIO...</td>\n",
       "      <td>GIVE THE CHEMICAL COMPOSITION OF STRUCTURAL ST...</td>\n",
       "      <td>NaN</td>\n",
       "    </tr>\n",
       "  </tbody>\n",
       "</table>\n",
       "</div>"
      ],
      "text/plain": [
       "   Id                                          Question1  \\\n",
       "0   1                                             AVEI:L   \n",
       "1   2  WHAT ARE THE ADVANTAGES AND DISADVANTAGES OF S...   \n",
       "2   3  WHAT IS STRUCTURAL STEEL AND WHAT ARE ITS PROP...   \n",
       "3   4  DISCUSS IN BRIEF A GENERAL CHEMICAL COMPOSITIO...   \n",
       "\n",
       "                                           Question2  \\\n",
       "0  AVEI:L 1.1. WHAT IS STEEL STRUCTURE ? WHAT ARE...   \n",
       "1  WRITE ADVANTAGES OF STEEL USED AS A STRUCTURAL...   \n",
       "2  DESCRIBE SOME OF THE MECHANICAL PROPERTIES OF ...   \n",
       "3  GIVE THE CHEMICAL COMPOSITION OF STRUCTURAL ST...   \n",
       "\n",
       "                                              Answer  \n",
       "0  A STEEL STRUCTURE : A STEEL STRUCTURE IS AN AS...  \n",
       "1  A ADVANTAGES : FOLLOWING ARE THE ADVANTAGES OF...  \n",
       "2  STEEL : IT IS PROBABLY THE MOST VERSATILE AND ...  \n",
       "3                                                NaN  "
      ]
     },
     "execution_count": 75,
     "metadata": {},
     "output_type": "execute_result"
    }
   ],
   "source": [
    "df = pd.read_csv(r'C:\\Users\\Ramstein\\Desktop\\textract\\qa.csv')\n",
    "df.head()"
   ]
  },
  {
   "cell_type": "code",
   "execution_count": 86,
   "metadata": {},
   "outputs": [],
   "source": [
    "def find_duplicate_que(x):\n",
    "    print(x)\n",
    "    "
   ]
  },
  {
   "cell_type": "code",
   "execution_count": 87,
   "metadata": {},
   "outputs": [
    {
     "name": "stdout",
     "output_type": "stream",
     "text": [
      "AVEI:L\n",
      "WHAT ARE THE ADVANTAGES AND DISADVANTAGES OF STEEL USED AS A STRUCTURAL MATERIAL ?\n",
      "WHAT IS STRUCTURAL STEEL AND WHAT ARE ITS PROPERTIES ?\n",
      "DISCUSS IN BRIEF A GENERAL CHEMICAL COMPOSITION OF STEEL AND EFFECT OF CARBON ON STEEL.\n"
     ]
    },
    {
     "data": {
      "text/plain": [
       "0    None\n",
       "1    None\n",
       "2    None\n",
       "3    None\n",
       "Name: Question1, dtype: object"
      ]
     },
     "execution_count": 87,
     "metadata": {},
     "output_type": "execute_result"
    }
   ],
   "source": [
    "df['Question1'].apply(lambda x: find_duplicate_que(x))"
   ]
  },
  {
   "cell_type": "code",
   "execution_count": 90,
   "metadata": {},
   "outputs": [
    {
     "data": {
      "text/plain": [
       "['A STEEL STRUCTURE : A STEEL STRUCTURE IS AN ASSEMBLAGE OF A GROUP OF AND MEMBERS TO TRANSFER (ELEMENTS) THEM SAFELY EXPECTED TO THE TO GROUND. SUSTAIN DEPENDING THEIR SHARE ON OF THE APPLIED ORIENTATION FORCES OF THE MEMBER IN THE STRUCTURE AND ITS STRUCTURAL USE, THE MEMBER IS SUBJECTED TO FORCES, EITHER AXIAL, BENDING OR TORSION, OR COMBINATION OF FORCES. B. REQUIREMENTS : FOLLOWING ARE THE REQUIREMENTS THAT GOVERN THE STRUCTURAL DESIGN 1. IT SHOULD HAVE ADEQUATE STRENGTH. 2. IT SHOULD HAVE ADEQUATE STABILITY AND RIGIDITY. 3. IT SHOULD BE DURABLE. 4. IT SHOULD NOT INTERFERE WITH THE FUNCTIONAL REQUIREMENT. 5. IT SHOULD BE ECONOMICAL. 6. IT SHOULD BE READILY ADAPTABLE TO FUTURE EXTENSION.',\n",
       " 'A ADVANTAGES : FOLLOWING ARE THE ADVANTAGES OF STEEL USED AS STRUCTURAL MATERIAL 1. STEEL IS THE ULTIMATE RECYCLABLE MATERIAL. 2. THEY CAN BE ERECTED AT A FASTER RATE. 3. ADDITIONS AND ALTERNATIONS CAN BE MADE EASILY TO STEEL STRUCTURES. 4. STRUCTURAL STEELS IS TOUGH I.E., IT HAS BOTH STRENGTH AND DUCTILITY 5. PROPERLY MAINTAINED STEEL STRUCTURE HAS A LONG LIFE. 6. STEEL BEING A DUCTILE MATERIAL DOES NOT FAIL SUDDENLY. B. DISADVANTAGES : FOLLOWING ARE DISADVANTAGES OF STEEL USED AS A STRUCTURAL MATERIAL 1. IT IS SUSCEPTIBLE TO CORROSION AND BUCKLING 2. STEEL MEMBERS ARE COSTLY. 3. MAINTENANCE COST IS HIGH. 4. THEIR SHAPE AND SIZE ARE STANDARD SO WORKED ACCORDING TO THE STANDARD SHAPE AND SIZE. STRUCTURAL STEEL.',\n",
       " \"STEEL : IT IS PROBABLY THE MOST VERSATILE AND COMMONLY USED STRUCTURAL MATERIAL. THE ESSENTIAL ELEMENTS IN STEEL ARE METALLIC IRON AND THE ELEMENT OF NON-METALLIC CARBON WITH SMALL QUANTITY OF OTHER ELEMENTS SUCH AS SILICON, CHROMIUM AND COPPER. PROPERTIES : FOLLOWING ARE THE PROPERTIES OF STRUCTURAL STEEL 1. PHYSICAL PROPERTIES : I. UNIT MASS OF STEEL, P = 7850 KG/M3. II. MODULUS OF ELASTICITY, E 2.0 X 105 N/MM2 III. POISSON'S RATIO, U 0.3. IV. MODULUS OF RIGIDITY, G = 0.769 X 105 N/MM2. V. COEFFICIENT OF THERMAL EXPANSION, A, 12 X 10-6/C. 2. MECHANICAL PROPERTIES : I. YIELD STRESS, II. THE TENSILE OR ULTIMATE STRESS, FU II TYPE OF STEEL THE MAXIMUM DESIGNATION PERCENTAGE ELONGATION ON A STANDARD GAUGE LENGTH. UT'S (MPA) YIELD STRONGTH (MPN) THIOKNENS (MAM) MINIMUM PEROENTAGO CHARPY $20 20-40 $40 ELONGATION V-NOTOH (GAUGE LENGTH IMPACT STANDARD FE 410A 5.665 A 0 ENERGY 410 250 (MIN) STRUCTURA FE 410B 240 230 410 250 23 240 STEEL (IS 2062) FE 410C 230 410 23 250 27 240 230 23 27 <16 16-40 MICRO-ALLOYED FE 440B 41-63 440 300 290 280 MEDIUM/ FE 540B 22 540 30 410 HIGH-STRENGTH 390 380 20 FE 490B 25 STEEL (IS : 8500) 490 350 330 320 22 FE 590B/570B 25 590/570 450 430 420 30 20\",\n",
       " nan]"
      ]
     },
     "execution_count": 90,
     "metadata": {},
     "output_type": "execute_result"
    }
   ],
   "source": [
    "list(df['Question1'])"
   ]
  },
  {
   "cell_type": "code",
   "execution_count": 97,
   "metadata": {},
   "outputs": [
    {
     "data": {
      "text/plain": [
       "'STEEL : IT IS PROBABLY THE MOST VERSATILE AND COMMONLY USED STRUCTURAL MATERIAL. THE ESSENTIAL ELEMENTS IN STEEL ARE METALLIC IRON AND THE ELEMENT OF NON-METALLIC CARBON WITH SMALL QUANTITY OF OTHER ELEMENTS SUCH AS SILICON, CHROMIUM AND COPPER. PROP'"
      ]
     },
     "execution_count": 97,
     "metadata": {},
     "output_type": "execute_result"
    }
   ],
   "source": [
    "df.at[2, 'Answer'][:n_char_in_A_ans]"
   ]
  },
  {
   "cell_type": "code",
   "execution_count": null,
   "metadata": {},
   "outputs": [],
   "source": []
  }
 ],
 "metadata": {
  "kernelspec": {
   "display_name": "Python 3",
   "language": "python",
   "name": "python3"
  },
  "language_info": {
   "codemirror_mode": {
    "name": "ipython",
    "version": 3
   },
   "file_extension": ".py",
   "mimetype": "text/x-python",
   "name": "python",
   "nbconvert_exporter": "python",
   "pygments_lexer": "ipython3",
   "version": "3.7.3"
  }
 },
 "nbformat": 4,
 "nbformat_minor": 2
}
