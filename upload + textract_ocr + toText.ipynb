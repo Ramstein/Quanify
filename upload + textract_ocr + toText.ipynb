{
 "cells": [
  {
   "cell_type": "code",
   "execution_count": 127,
   "source": [
    "import boto3, os\r\n",
    "import json, sys\r\n",
    "from pprint import pprint\r\n",
    "from botocore.exceptions import NoCredentialsError, ClientError\r\n",
    "import logging\r\n",
    "from tqdm import tqdm\r\n",
    "import pandas as pd, os\r\n"
   ],
   "outputs": [],
   "metadata": {}
  },
  {
   "cell_type": "code",
   "execution_count": 128,
   "source": [
    "#  just change these values\r\n",
    "sem_plus_sub = '07-css'  # no capital, no underscore\r\n",
    "file_dir = r'C:\\Users\\Ramstein\\Desktop\\textract\\s3_upload_test'"
   ],
   "outputs": [],
   "metadata": {}
  },
  {
   "cell_type": "code",
   "execution_count": 129,
   "source": [
    "bucket_name = sem_plus_sub+'-textract-upload'\r\n",
    "region = 'us-west-2'\r\n",
    "\r\n",
    "# ACCESS_KEY = 'hadiugyaduyg'\r\n",
    "# SECRET_KEY = 'hidauhuadyh'\r\n",
    "\r\n",
    "files = os.listdir(file_dir)\r\n",
    "s3_client = boto3.client('s3')\r\n",
    "\r\n",
    "\r\n",
    "def create_bucket(bucket_name, region=None):\r\n",
    "    # if Bucket is already owned, it will move forward.\r\n",
    "    try:\r\n",
    "        if region is None:\r\n",
    "            s3_client.create_bucket(Bucket=bucket_name)\r\n",
    "        else:\r\n",
    "            s3_client = boto3.client('s3', region_name=region)\r\n",
    "            location = {'LocationConstraint': region}\r\n",
    "            s3_client.create_bucket(Bucket=bucket_name,\r\n",
    "                                    CreateBucketConfiguration=location)\r\n",
    "    except ClientError as e:\r\n",
    "        logging.error(e)\r\n",
    "        return False\r\n",
    "    return True\r\n",
    "\r\n",
    "def upload_to_aws(local_file, bucket, s3_file_name):\r\n",
    "    try:\r\n",
    "        s3_client.upload_file(local_file, bucket, s3_file_name)\r\n",
    "        return True\r\n",
    "    except FileNotFoundError:\r\n",
    "        print(\"File not found: \"+local_file)\r\n",
    "        return False\r\n",
    "    except NoCredentialsError:\r\n",
    "        print(\"Credentials not available\")\r\n",
    "        return False"
   ],
   "outputs": [],
   "metadata": {}
  },
  {
   "cell_type": "code",
   "execution_count": 130,
   "source": [
    "# creating bucket\r\n",
    "if create_bucket(bucket_name, region=region): print('Bucket:'+ bucket_name+ 'created.')"
   ],
   "outputs": [
    {
     "output_type": "stream",
     "name": "stderr",
     "text": [
      "ERROR:root:An error occurred (BucketAlreadyOwnedByYou) when calling the CreateBucket operation: Your previous request to create the named bucket succeeded and you already own it.\n"
     ]
    }
   ],
   "metadata": {}
  },
  {
   "cell_type": "code",
   "execution_count": 131,
   "source": [
    "# uploading the png files\n",
    "for file in tqdm(files):\n",
    "    local_file = os.path.join(file_dir, file)\n",
    "    s3_file_name=file\n",
    "    upload_to_aws(local_file, bucket_name, s3_file_name)\n"
   ],
   "outputs": [
    {
     "output_type": "stream",
     "name": "stderr",
     "text": [
      "100%|████████████████████████████████████████████████████████████████████████████████████| 6/6 [01:06<00:00, 12.55s/it]\n"
     ]
    }
   ],
   "metadata": {}
  },
  {
   "cell_type": "code",
   "execution_count": 132,
   "source": [
    "lines = []\n",
    "# amazon s3\n",
    "s3 = boto3.resource('s3')\n",
    "\n",
    "# amazon textract\n",
    "textract = boto3.client(service_name='textract', region_name=region)\n",
    "\n",
    "txt_file_path = os.path.join(file_dir, sem_plus_sub)+'.txt'\n",
    "csv_file_path = os.path.join(file_dir, sem_plus_sub)+'.csv'\n",
    "\n",
    "txt_file_opened = open(txt_file_path, 'w')\n"
   ],
   "outputs": [],
   "metadata": {}
  },
  {
   "cell_type": "code",
   "execution_count": 133,
   "source": [
    "# detecting text in the documents and writing to txt\n",
    "for file in tqdm(files):\n",
    "    try:\n",
    "        response = textract.detect_document_text(\n",
    "            Document={\n",
    "                \"S3Object\": {\n",
    "                    \"Bucket\": bucket_name,\n",
    "                    \"Name\": file\n",
    "                }\n",
    "            }\n",
    "        )\n",
    "        for item in response[\"Blocks\"]:\n",
    "            if item[\"BlockType\"] == \"LINE\":\n",
    "#                 lines.append(item[\"Text\"])\n",
    "#                 print(item[\"Text\"])\n",
    "                txt_file_opened.write(item[\"Text\"]+'\\n')                \n",
    "\n",
    "    except Exception as e:\n",
    "        print(e)\n",
    "        \n",
    "txt_file_opened.close()"
   ],
   "outputs": [
    {
     "output_type": "stream",
     "name": "stderr",
     "text": [
      "\r\n",
      "  0%|                                                                                            | 0/6 [00:00<?, ?it/s]"
     ]
    },
    {
     "output_type": "stream",
     "name": "stdout",
     "text": [
      "An error occurred (UnsupportedDocumentException) when calling the DetectDocumentText operation: Request has unsupported document format\n"
     ]
    },
    {
     "output_type": "stream",
     "name": "stderr",
     "text": [
      "\r\n",
      " 17%|██████████████                                                                      | 1/6 [00:00<00:04,  1.01it/s]"
     ]
    },
    {
     "output_type": "stream",
     "name": "stdout",
     "text": [
      "An error occurred (UnsupportedDocumentException) when calling the DetectDocumentText operation: Request has unsupported document format\n"
     ]
    },
    {
     "output_type": "stream",
     "name": "stderr",
     "text": [
      "100%|████████████████████████████████████████████████████████████████████████████████████| 6/6 [00:26<00:00,  4.67s/it]\n"
     ]
    }
   ],
   "metadata": {}
  },
  {
   "cell_type": "code",
   "execution_count": 134,
   "source": [
    "def quanify():\n",
    "    df = pd.DataFrame({\"Question1\": [''],\n",
    "                       'Question2': [''],\n",
    "                       'Answer': ['']\n",
    "                       })\n",
    "    with open(txt_file_path, 'r') as file:\n",
    "        lines = file.readlines()\n",
    "\n",
    "        sub_name = ['DESIGN OF STRUCTURE - III']\n",
    "        contents = []\n",
    "        # if a line conatains any of these, remove that\n",
    "        drop_str = ['QUESTIONS-ANSWERS', 'LONG ANSWER TYPE AND MEDIUM ANSWER TYPE QUESTIONS',\n",
    "                    'VERY IMPORTANT QUESTIONS', 'FOLLOWING QUESTIONS ARE VERY IMPORTANT. THESE QUESTIONS',\n",
    "                    'MAY BE ASKED IN YOUR SESSIONALS AS WELL AS', 'UNIVERSITY EXAMINATION',\n",
    "                    'MARKS', '2 MARKS QUESTIONS', 'QUESTION', 'PART-1', 'PART-2', 'PART-3', 'PART-4', 'PART-5',\n",
    "                    'PART-6', 'PART-7', 'PART-8', 'PART-9', 'PART-10', 'PART-11', 'PART-12', 'PART-13', 'PART-14',\n",
    "                    'PART-15', 'PART-16', 'PART-17', 'PART-18',\n",
    "                    'PART-19', 'PART-20', 'PART-21', 'PART-22', 'PART-23', 'PART-24', 'PART-25', 'PART-26', 'PART-27',\n",
    "                    'PART-28', 'PART-29', 'PART-30',\n",
    "                    'AKTU', 'MARKS 01', 'MARKS 02', 'MARKS 05', 'MARKS 10', 'MARKS 15', '2010-11', '2011-12', '2012-13',\n",
    "                    '2013-14', '2014-15', '2015-16', '2016-17', '2017-18', '2018-19', '2019-20', '2020-21', '2021-22',\n",
    "                    '2022-23']\n",
    "        sem = 'CE-SEM'\n",
    "\n",
    "        question_end = ['.', '?', ',', '!']\n",
    "        drop_after_qa_detn = ['QUE ', 'OR', 'ANSWER']  # Leading part of the Que line will also be removed.\n",
    "        lines1 = []\n",
    "        que_line_start1, que_line_end1, que_line_start2, que_line_end2, ans_line_start, ans_line_end = 0, 0, 0, 0, 0, 0\n",
    "        que_found1, que_found2, ans_found = 0, 0, 0\n",
    "        que_idx1, que_idx2, ans_idx = 0, 0, 0\n",
    "\n",
    "        for line in lines:\n",
    "            line = line.split('\\n')[0].upper()\n",
    "            lines1.append(line)\n",
    "\n",
    "        # appending all the dropping strings to one list\n",
    "        drop_str.append(sem)\n",
    "        for w in sub_name: drop_str.append(w)\n",
    "        for w in contents: drop_str.append(w)\n",
    "\n",
    "        lines = []\n",
    "        # removing all the sub-strings\n",
    "        for line in lines1:\n",
    "            found = 0\n",
    "            for sub_str in drop_str:\n",
    "                if line.find(sub_str) != -1: found = 1\n",
    "            if found != 1: lines.append(line); found = 0\n",
    "        lines1 = []\n",
    "\n",
    "        for i, line in enumerate(lines):\n",
    "            if line.find('QUE') != -1 or line.find('QVE') != -1:\n",
    "                que_line_start1 = i\n",
    "                ans_line_end = i - 1\n",
    "                que_found1 = 1\n",
    "\n",
    "            if line.find('OR') != -1 or line == 'OR':\n",
    "                que_line_end1 = i-1\n",
    "                que_line_start2 = i\n",
    "                que_found2 = 1\n",
    "\n",
    "            if line.find('ANSWER') != -1 or line == 'ANSWER':\n",
    "                que_line_end2 = i - 1\n",
    "                ans_line_start = i\n",
    "                ans_found = 1\n",
    "\n",
    "            if que_found1 == 1:\n",
    "                answer = lines[ans_line_start + 1]\n",
    "                if ans_line_start < ans_line_end:\n",
    "                    for a in range(ans_line_end - ans_line_start - 1):\n",
    "                        ans_line_start += 1\n",
    "                        answer += ' ' + lines[ans_line_start + 1]\n",
    "                que_found1 = 0\n",
    "                # Writing to DataFrame\n",
    "                df.at[ans_idx, 'Answer'] = answer\n",
    "                ans_idx += 1\n",
    "\n",
    "            if ans_found == 1:\n",
    "                question = lines[que_line_start1 + 1]\n",
    "                if que_line_start1 < que_line_end1:\n",
    "                    for q in range(que_line_end1 - que_line_start1 - 1):\n",
    "                        que_line_start1 += 1\n",
    "                        question += ' ' + lines[que_line_start1 + 1]\n",
    "                # ans_found = 0 # not set it here\n",
    "                # Writing to DataFrame\n",
    "                df.at[que_idx1 +1, 'Question1'] = question\n",
    "                que_idx1 += 1\n",
    "\n",
    "            if ans_found == 1:\n",
    "                question = lines[que_line_start2 + 1]\n",
    "                if que_line_start2 < que_line_end2:\n",
    "                    for q in range(que_line_end2 - que_line_start2 - 1):\n",
    "                        que_line_start2 += 1\n",
    "                        question += ' ' + lines[que_line_start2 + 1]\n",
    "                ans_found = 0\n",
    "                # Writing to DataFrame\n",
    "                df.at[que_idx2 +1, 'Question2'] = question;que_idx2 += 1\n",
    "\n",
    "    return df\n",
    "\n",
    "    # new_row = pd.DataFrame({\"Question1\": 'what is magnetic confinement?',\n",
    "    #                         'Question2': 'Describe magnetic confinement?',\n",
    "    #                         'Answer': 'sheilding the plasma with magnetic field lines.'\n",
    "    #                         }, index=[1])\n",
    "    # df = pd.concat([df, new_row]).reset_index(drop=True)"
   ],
   "outputs": [],
   "metadata": {}
  },
  {
   "cell_type": "code",
   "execution_count": 135,
   "source": [
    "df = quanify()\n",
    "df.head()"
   ],
   "outputs": [
    {
     "output_type": "execute_result",
     "data": {
      "text/html": [
       "<div>\n",
       "<style scoped>\n",
       "    .dataframe tbody tr th:only-of-type {\n",
       "        vertical-align: middle;\n",
       "    }\n",
       "\n",
       "    .dataframe tbody tr th {\n",
       "        vertical-align: top;\n",
       "    }\n",
       "\n",
       "    .dataframe thead th {\n",
       "        text-align: right;\n",
       "    }\n",
       "</style>\n",
       "<table border=\"1\" class=\"dataframe\">\n",
       "  <thead>\n",
       "    <tr style=\"text-align: right;\">\n",
       "      <th></th>\n",
       "      <th>Question1</th>\n",
       "      <th>Question2</th>\n",
       "      <th>Answer</th>\n",
       "    </tr>\n",
       "  </thead>\n",
       "  <tbody>\n",
       "    <tr>\n",
       "      <th>0</th>\n",
       "      <td></td>\n",
       "      <td></td>\n",
       "      <td>AVEI:L</td>\n",
       "    </tr>\n",
       "    <tr>\n",
       "      <th>1</th>\n",
       "      <td>AVEI:L</td>\n",
       "      <td>AVEI:L 1.1. WHAT IS STEEL STRUCTURE ? WHAT ARE...</td>\n",
       "      <td>A STEEL STRUCTURE : A STEEL STRUCTURE IS AN AS...</td>\n",
       "    </tr>\n",
       "    <tr>\n",
       "      <th>2</th>\n",
       "      <td>WHAT ARE THE ADVANTAGES AND DISADVANTAGES OF S...</td>\n",
       "      <td>WRITE ADVANTAGES OF STEEL USED AS A STRUCTURAL...</td>\n",
       "      <td>A ADVANTAGES : FOLLOWING ARE THE ADVANTAGES OF...</td>\n",
       "    </tr>\n",
       "    <tr>\n",
       "      <th>3</th>\n",
       "      <td>WHAT IS STRUCTURAL STEEL AND WHAT ARE ITS PROP...</td>\n",
       "      <td>DESCRIBE SOME OF THE MECHANICAL PROPERTIES OF ...</td>\n",
       "      <td>STEEL : IT IS PROBABLY THE MOST VERSATILE AND ...</td>\n",
       "    </tr>\n",
       "    <tr>\n",
       "      <th>4</th>\n",
       "      <td>DISCUSS IN BRIEF A GENERAL CHEMICAL COMPOSITIO...</td>\n",
       "      <td>GIVE THE CHEMICAL COMPOSITION OF STRUCTURAL ST...</td>\n",
       "      <td>A. CHEMICAL COMPOSITION OF STEEL : THE CHEMICA...</td>\n",
       "    </tr>\n",
       "  </tbody>\n",
       "</table>\n",
       "</div>"
      ],
      "text/plain": [
       "                                           Question1  \\\n",
       "0                                                      \n",
       "1                                             AVEI:L   \n",
       "2  WHAT ARE THE ADVANTAGES AND DISADVANTAGES OF S...   \n",
       "3  WHAT IS STRUCTURAL STEEL AND WHAT ARE ITS PROP...   \n",
       "4  DISCUSS IN BRIEF A GENERAL CHEMICAL COMPOSITIO...   \n",
       "\n",
       "                                           Question2  \\\n",
       "0                                                      \n",
       "1  AVEI:L 1.1. WHAT IS STEEL STRUCTURE ? WHAT ARE...   \n",
       "2  WRITE ADVANTAGES OF STEEL USED AS A STRUCTURAL...   \n",
       "3  DESCRIBE SOME OF THE MECHANICAL PROPERTIES OF ...   \n",
       "4  GIVE THE CHEMICAL COMPOSITION OF STRUCTURAL ST...   \n",
       "\n",
       "                                              Answer  \n",
       "0                                             AVEI:L  \n",
       "1  A STEEL STRUCTURE : A STEEL STRUCTURE IS AN AS...  \n",
       "2  A ADVANTAGES : FOLLOWING ARE THE ADVANTAGES OF...  \n",
       "3  STEEL : IT IS PROBABLY THE MOST VERSATILE AND ...  \n",
       "4  A. CHEMICAL COMPOSITION OF STEEL : THE CHEMICA...  "
      ]
     },
     "metadata": {},
     "execution_count": 135
    }
   ],
   "metadata": {}
  },
  {
   "cell_type": "code",
   "execution_count": 136,
   "source": [
    "df = df.drop([0]) # look only if it needs to drop the row then drop it\n",
    "df.head()"
   ],
   "outputs": [
    {
     "output_type": "execute_result",
     "data": {
      "text/html": [
       "<div>\n",
       "<style scoped>\n",
       "    .dataframe tbody tr th:only-of-type {\n",
       "        vertical-align: middle;\n",
       "    }\n",
       "\n",
       "    .dataframe tbody tr th {\n",
       "        vertical-align: top;\n",
       "    }\n",
       "\n",
       "    .dataframe thead th {\n",
       "        text-align: right;\n",
       "    }\n",
       "</style>\n",
       "<table border=\"1\" class=\"dataframe\">\n",
       "  <thead>\n",
       "    <tr style=\"text-align: right;\">\n",
       "      <th></th>\n",
       "      <th>Question1</th>\n",
       "      <th>Question2</th>\n",
       "      <th>Answer</th>\n",
       "    </tr>\n",
       "  </thead>\n",
       "  <tbody>\n",
       "    <tr>\n",
       "      <th>1</th>\n",
       "      <td>AVEI:L</td>\n",
       "      <td>AVEI:L 1.1. WHAT IS STEEL STRUCTURE ? WHAT ARE...</td>\n",
       "      <td>A STEEL STRUCTURE : A STEEL STRUCTURE IS AN AS...</td>\n",
       "    </tr>\n",
       "    <tr>\n",
       "      <th>2</th>\n",
       "      <td>WHAT ARE THE ADVANTAGES AND DISADVANTAGES OF S...</td>\n",
       "      <td>WRITE ADVANTAGES OF STEEL USED AS A STRUCTURAL...</td>\n",
       "      <td>A ADVANTAGES : FOLLOWING ARE THE ADVANTAGES OF...</td>\n",
       "    </tr>\n",
       "    <tr>\n",
       "      <th>3</th>\n",
       "      <td>WHAT IS STRUCTURAL STEEL AND WHAT ARE ITS PROP...</td>\n",
       "      <td>DESCRIBE SOME OF THE MECHANICAL PROPERTIES OF ...</td>\n",
       "      <td>STEEL : IT IS PROBABLY THE MOST VERSATILE AND ...</td>\n",
       "    </tr>\n",
       "    <tr>\n",
       "      <th>4</th>\n",
       "      <td>DISCUSS IN BRIEF A GENERAL CHEMICAL COMPOSITIO...</td>\n",
       "      <td>GIVE THE CHEMICAL COMPOSITION OF STRUCTURAL ST...</td>\n",
       "      <td>A. CHEMICAL COMPOSITION OF STEEL : THE CHEMICA...</td>\n",
       "    </tr>\n",
       "    <tr>\n",
       "      <th>5</th>\n",
       "      <td>DRAW A STRESS STRAIN CURVE FOR MILD STEEL AND ...</td>\n",
       "      <td>DISCUSS STRESS STRAIN BEHAVIOUR OF MILD STEEL.</td>\n",
       "      <td>NaN</td>\n",
       "    </tr>\n",
       "  </tbody>\n",
       "</table>\n",
       "</div>"
      ],
      "text/plain": [
       "                                           Question1  \\\n",
       "1                                             AVEI:L   \n",
       "2  WHAT ARE THE ADVANTAGES AND DISADVANTAGES OF S...   \n",
       "3  WHAT IS STRUCTURAL STEEL AND WHAT ARE ITS PROP...   \n",
       "4  DISCUSS IN BRIEF A GENERAL CHEMICAL COMPOSITIO...   \n",
       "5  DRAW A STRESS STRAIN CURVE FOR MILD STEEL AND ...   \n",
       "\n",
       "                                           Question2  \\\n",
       "1  AVEI:L 1.1. WHAT IS STEEL STRUCTURE ? WHAT ARE...   \n",
       "2  WRITE ADVANTAGES OF STEEL USED AS A STRUCTURAL...   \n",
       "3  DESCRIBE SOME OF THE MECHANICAL PROPERTIES OF ...   \n",
       "4  GIVE THE CHEMICAL COMPOSITION OF STRUCTURAL ST...   \n",
       "5     DISCUSS STRESS STRAIN BEHAVIOUR OF MILD STEEL.   \n",
       "\n",
       "                                              Answer  \n",
       "1  A STEEL STRUCTURE : A STEEL STRUCTURE IS AN AS...  \n",
       "2  A ADVANTAGES : FOLLOWING ARE THE ADVANTAGES OF...  \n",
       "3  STEEL : IT IS PROBABLY THE MOST VERSATILE AND ...  \n",
       "4  A. CHEMICAL COMPOSITION OF STEEL : THE CHEMICA...  \n",
       "5                                                NaN  "
      ]
     },
     "metadata": {},
     "execution_count": 136
    }
   ],
   "metadata": {}
  },
  {
   "cell_type": "code",
   "execution_count": 137,
   "source": [
    "df.to_csv(csv_file_path, index_label='Id')\n",
    "print('QA csv file created: '+ csv_file_path)"
   ],
   "outputs": [
    {
     "output_type": "stream",
     "name": "stdout",
     "text": [
      "QA csv file created: C:\\Users\\Ramstein\\Desktop\\textract\\s3_upload_test\\07-css.csv\n"
     ]
    }
   ],
   "metadata": {}
  },
  {
   "cell_type": "code",
   "execution_count": 140,
   "source": [
    "# uploading csv file to the same bucket\n",
    "\n",
    "if upload_to_aws(csv_file_path, bucket_name, sem_plus_sub+'.csv'):\n",
    "    print(csv_file_path + ' uploaded to s3.')\n"
   ],
   "outputs": [
    {
     "output_type": "stream",
     "name": "stdout",
     "text": [
      "C:\\Users\\Ramstein\\Desktop\\textract\\s3_upload_test\\07-css.csv uploaded to s3.\n"
     ]
    }
   ],
   "metadata": {}
  },
  {
   "cell_type": "code",
   "execution_count": 95,
   "source": [
    "import difflib\n",
    "a = 'WHAT ARE THE ADVANTAGES AND DISADVANTAGES OF STEEL USED AS A STRUCTURAL MATERIAL ?'\n",
    "b = 'WRITE ADVANTAGES OF STEEL USED AS A STRUCTURAL MATERIAL.'\n",
    "seq = difflib.SequenceMatcher()\n",
    "seq.set_seqs(a.lower(), b.lower()) # string b is x times similar to string a \n",
    "d = seq.ratio()*100\n",
    "print(d)"
   ],
   "outputs": [
    {
     "output_type": "stream",
     "name": "stdout",
     "text": [
      "76.81159420289855\n"
     ]
    }
   ],
   "metadata": {}
  },
  {
   "cell_type": "code",
   "execution_count": 116,
   "source": [
    "from difflib import get_close_matches\n",
    "\n",
    "word_list =['fjadbbiu', 'jdbfag', 'nsfkubusi', 'bdjfh','gvhvh', 'nfd', 'njfd', a]\n",
    "matches = get_close_matches('abcd', word_list, n=2, cutoff=0.1)\n",
    "print(matches)"
   ],
   "outputs": [
    {
     "output_type": "stream",
     "name": "stdout",
     "text": [
      "['bdjfh', 'fjadbbiu']\n"
     ]
    }
   ],
   "metadata": {}
  },
  {
   "cell_type": "code",
   "execution_count": 117,
   "source": [
    "seq = difflib.SequenceMatcher()\n",
    "seq.set_seqs('nsfkubusi', 'njfdu') # string b is x times similar to string a \n",
    "d = seq.ratio()*100\n",
    "print(d)"
   ],
   "outputs": [
    {
     "output_type": "stream",
     "name": "stdout",
     "text": [
      "42.857142857142854\n"
     ]
    }
   ],
   "metadata": {}
  },
  {
   "cell_type": "code",
   "execution_count": 141,
   "source": [
    "from fuzzywuzzy import process\n",
    "\n",
    "q1_from_s3, similarity = process.extractOne(b, word_list)\n"
   ],
   "outputs": [],
   "metadata": {}
  },
  {
   "cell_type": "code",
   "execution_count": 144,
   "source": [
    "similarity"
   ],
   "outputs": [
    {
     "output_type": "execute_result",
     "data": {
      "text/plain": [
       "89"
      ]
     },
     "metadata": {},
     "execution_count": 144
    }
   ],
   "metadata": {}
  },
  {
   "cell_type": "code",
   "execution_count": null,
   "source": [
    "json = {'Records':\n",
    "        [{'eventVersion': '2.1', \n",
    "          'eventSource': 'aws:s3',\n",
    "          'awsRegion': 'us-west-2',\n",
    "          'eventTime': '2020-03-14T06:47:35.012Z',\n",
    "          'eventName': 'ObjectCreated:Put',\n",
    "          'userIdentity': {'principalId': 'AGR0MSP44PJPT'},\n",
    "          'requestParameters': {'sourceIPAddress': '223.190.0.32'},\n",
    "          'responseElements': {'x-amz-request-id': '87F6310717B8F927',\n",
    "                               'x-amz-id-2': 'P+SdlY01Y1o3nW5GTESwK2Fqeb9U8R4DblU5jFYKjP/fRcCfjT566jWLaewF3bEf7mC6RqSFkzyH41KCXrOvIJiFbxlZ+Uxt'},\n",
    "          's3': {'s3SchemaVersion': '1.0', \n",
    "                 'configurationId': 'c639af7a-bbbf-493a-8c8b-58c3d2e865cd',\n",
    "                 'bucket': {'name': 'new-qa-test',\n",
    "                            'ownerIdentity': {'principalId': 'AGR0MSP44PJPT'},\n",
    "                            'arn': 'arn:aws:s3:::new-qa-test'}, \n",
    "                 'object': {'key': 'lambda/qa.csv', 'size': 3207,\n",
    "                            'eTag': 'c8392caea36e43412cda5a26a52a2792',\n",
    "                            'sequencer': '005E6C7E076BCBCCD7'}}}]}"
   ],
   "outputs": [],
   "metadata": {}
  }
 ],
 "metadata": {
  "kernelspec": {
   "display_name": "Python 3",
   "language": "python",
   "name": "python3"
  },
  "language_info": {
   "codemirror_mode": {
    "name": "ipython",
    "version": 3
   },
   "file_extension": ".py",
   "mimetype": "text/x-python",
   "name": "python",
   "nbconvert_exporter": "python",
   "pygments_lexer": "ipython3",
   "version": "3.7.3"
  }
 },
 "nbformat": 4,
 "nbformat_minor": 2
}